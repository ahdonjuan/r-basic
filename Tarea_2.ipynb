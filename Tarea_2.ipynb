{
  "nbformat": 4,
  "nbformat_minor": 0,
  "metadata": {
    "colab": {
      "provenance": [],
      "authorship_tag": "ABX9TyPyqSD5xuq6wngakfB7ioNq",
      "include_colab_link": true
    },
    "kernelspec": {
      "name": "python3",
      "display_name": "Python 3"
    },
    "language_info": {
      "name": "python"
    }
  },
  "cells": [
    {
      "cell_type": "markdown",
      "metadata": {
        "id": "view-in-github",
        "colab_type": "text"
      },
      "source": [
        "<a href=\"https://colab.research.google.com/github/ahdonjuan/r-basic/blob/master/Tarea_2.ipynb\" target=\"_parent\"><img src=\"https://colab.research.google.com/assets/colab-badge.svg\" alt=\"Open In Colab\"/></a>"
      ]
    },
    {
      "cell_type": "code",
      "execution_count": 1,
      "metadata": {
        "colab": {
          "base_uri": "https://localhost:8080/"
        },
        "id": "Jmh9XG352kaE",
        "outputId": "625ee82b-69ac-4527-c807-f4916ef89ce9"
      },
      "outputs": [
        {
          "output_type": "execute_result",
          "data": {
            "text/plain": [
              "(77.67147815997174,\n",
              " (81.61610720214046, 83.26486193539105, 86.66296541399669),\n",
              " 23.264861935391053,\n",
              " 16.735138064608947,\n",
              " 1.0988145541100003,\n",
              " 2.118544588999982)"
            ]
          },
          "metadata": {},
          "execution_count": 1
        }
      ],
      "source": [
        "import math\n",
        "\n",
        "# Problema 1: Valor forward de una acción que no paga dividendos\n",
        "S0_1 = 75  # Precio actual de la acción\n",
        "r_1 = 0.07  # Tasa de interés anual, convertible continuamente\n",
        "T_1 = 6 / 12  # Tiempo hasta la expiración del contrato en años\n",
        "F0_1 = S0_1 * math.exp(r_1 * T_1)  # Cálculo del precio forward a 6 meses\n",
        "\n",
        "# Problema 2: Precios forward y rescisión de contratos\n",
        "S0_2 = 80  # Precio actual de otra acción\n",
        "r_2 = 0.08  # Tasa de interés anual para la segunda acción\n",
        "F3 = S0_2 * math.exp(r_2 * (3/12))  # Precio forward a 3 meses\n",
        "F6 = S0_2 * math.exp(r_2 * (6/12))  # Precio forward a 6 meses\n",
        "F12 = S0_2 * math.exp(r_2 * (12/12))  # Precio forward a 12 meses\n",
        "Costo_rescision_b = F6 - 60  # Costo de rescisión del contrato a 6 meses con precio de entrega $60\n",
        "Pago_rescision_c = 100 - F6  # Pago por rescisión del contrato a 6 meses con precio de entrega $100\n",
        "\n",
        "# Problema 3: Tipo de cambio forward y estrategia de arbitraje\n",
        "P_usd = 98.309  # Precio del Treasury Bill en dólares\n",
        "P_eur = 99.104  # Precio del bono en euros\n",
        "S = 1.09  # Tipo de cambio actual EUR/USD\n",
        "r_d = -math.log(P_usd / 100) / 0.5  # Tasa del dólar\n",
        "r_f = -math.log(P_eur / 100) / 0.5  # Tasa del euro\n",
        "F_180 = S * math.exp((r_d - r_f) * 0.5)  # Tipo de cambio forward a 180 días\n",
        "Ganancia_arbitraje = 100 * (1.12 - F_180)  # Ganancia de la estrategia de arbitraje con tipo de cambio forward de $1.12/EUR\n",
        "\n",
        "# Resultados\n",
        "F0_1, (F3, F6, F12), Costo_rescision_b, Pago_rescision_c, F_180, Ganancia_arbitraje\n"
      ]
    },
    {
      "cell_type": "code",
      "source": [
        "import math\n",
        "\n",
        "# Problema 1: Valor forward de una acción que no paga dividendos\n",
        "S0_1 = 75  # Precio actual de la acción\n",
        "r_1 = 0.07  # Tasa de interés anual, convertible continuamente\n",
        "T_1 = 6 / 12  # Tiempo hasta la expiración del contrato en años\n",
        "F0_1 = S0_1 * math.exp(r_1 * T_1)  # Cálculo del precio forward a 6 meses\n",
        "\n",
        "# Problema 2: Precios forward y rescisión de contratos\n",
        "S0_2 = 80  # Precio actual de otra acción\n",
        "r_2 = 0.08  # Tasa de interés anual para la segunda acción\n",
        "F3 = S0_2 * math.exp(r_2 * (3/12))  # Precio forward a 3 meses\n",
        "F6 = S0_2 * math.exp(r_2 * (6/12))  # Precio forward a 6 meses\n",
        "F12 = S0_2 * math.exp(r_2 * (12/12))  # Precio forward a 12 meses\n",
        "Costo_rescision_b = F6 - 60  # Costo de rescisión del contrato a 6 meses con precio de entrega $60\n",
        "Pago_rescision_c = 100 - F6  # Pago por rescisión del contrato a 6 meses con precio de entrega $100\n",
        "\n",
        "# Problema 3: Tipo de cambio forward y estrategia de arbitraje\n",
        "P_usd = 98.309  # Precio del Treasury Bill en dólares\n",
        "P_eur = 99.104  # Precio del bono en euros\n",
        "S = 1.09  # Tipo de cambio actual EUR/USD\n",
        "r_d = -math.log(P_usd / 100) / 0.5  # Tasa del dólar\n",
        "r_f = -math.log(P_eur / 100) / 0.5  # Tasa del euro\n",
        "F_180 = S * math.exp((r_d - r_f) * 0.5)  # Tipo de cambio forward a 180 días\n",
        "Ganancia_arbitraje = 100 * (1.12 - F_180)  # Ganancia de la estrategia de arbitraje con tipo de cambio forward de $1.12/EUR\n",
        "\n",
        "# Presentación de resultados\n",
        "# Respuesta 1a: Valor del forward a 6 meses\n",
        "print(\"Respuesta 1a:\", F0_1)\n",
        "\n",
        "# Respuesta 2a: Precios forward a 3, 6 y 12 meses\n",
        "print(\"Respuesta 2a (3 meses):\", F3)\n",
        "print(\"Respuesta 2a (6 meses):\", F6)\n",
        "print(\"Respuesta 2a (12 meses):\", F12)\n",
        "\n",
        "# Respuesta 2b: Costo de rescisión del contrato con precio de entrega $60\n",
        "print(\"Respuesta 2b:\", Costo_rescision_b)\n",
        "\n",
        "# Respuesta 2c: Pago por rescisión del contrato con precio de entrega $100\n",
        "print(\"Respuesta 2c:\", Pago_rescision_c)\n",
        "\n",
        "# Respuesta 3a: Tipo de cambio forward a 180 días\n",
        "print(\"Respuesta 3a:\", F_180)\n",
        "\n",
        "# Respuesta 3b: Ganancia de la estrategia de arbitraje\n",
        "print(\"Respuesta 3b:\", Ganancia_arbitraje)\n"
      ],
      "metadata": {
        "colab": {
          "base_uri": "https://localhost:8080/"
        },
        "id": "YxZwJ-ug6mJp",
        "outputId": "dd311755-24cc-49b3-815a-9c71f825b4ed"
      },
      "execution_count": 2,
      "outputs": [
        {
          "output_type": "stream",
          "name": "stdout",
          "text": [
            "Respuesta 1a: 77.67147815997174\n",
            "Respuesta 2a (3 meses): 81.61610720214046\n",
            "Respuesta 2a (6 meses): 83.26486193539105\n",
            "Respuesta 2a (12 meses): 86.66296541399669\n",
            "Respuesta 2b: 23.264861935391053\n",
            "Respuesta 2c: 16.735138064608947\n",
            "Respuesta 3a: 1.0988145541100003\n",
            "Respuesta 3b: 2.118544588999982\n"
          ]
        }
      ]
    },
    {
      "cell_type": "code",
      "source": [
        "#5\n",
        "\n",
        "import pandas as pd\n",
        "import numpy as np\n",
        "\n",
        "# Datos iniciales\n",
        "tamaño_contrato = 45000\n",
        "precio_inicial = 1.05\n",
        "margen_inicial = 1100\n",
        "margen_mantenimiento = 820\n",
        "num_contratos = 5\n",
        "\n",
        "# Precios diarios\n",
        "precios = [1.10, 1.23, 1.09, 1.01, 0.98, 0.89, 0.80, 0.85, 0.98, 1.03, 1.10, 1.20, 1.34, 1.43]\n",
        "\n",
        "# Inicialización\n",
        "saldo_margen = num_contratos * margen_inicial\n",
        "saldos = []\n",
        "aportaciones = []\n",
        "margen_requerido = margen_inicial * num_contratos\n",
        "\n",
        "# Calcular saldos diarios\n",
        "for i in range(len(precios)):\n",
        "    if i == 0:\n",
        "        precio_anterior = precio_inicial\n",
        "    else:\n",
        "        precio_anterior = precios[i-1]\n",
        "\n",
        "    cambio_precio = precios[i] - precio_anterior\n",
        "    ganancia_perdida = cambio_precio * tamaño_contrato * num_contratos\n",
        "\n",
        "    saldo_margen += ganancia_perdida\n",
        "\n",
        "    if saldo_margen < margen_mantenimiento * num_contratos:\n",
        "        aportacion_adicional = margen_inicial * num_contratos - saldo_margen\n",
        "        saldo_margen += aportacion_adicional\n",
        "        aportaciones.append(aportacion_adicional)\n",
        "    else:\n",
        "        aportaciones.append(0)\n",
        "\n",
        "    saldos.append(saldo_margen)\n",
        "\n",
        "# Crear DataFrame para mostrar resultados\n",
        "datos = {\n",
        "    'Día': np.arange(1, len(precios) + 1),\n",
        "    'Precio': precios,\n",
        "    'Saldo de la Cuenta': saldos,\n",
        "    'Aportación Adicional': aportaciones\n",
        "}\n",
        "\n",
        "df = pd.DataFrame(datos)\n",
        "\n",
        "# Mostrar resultados\n",
        "print(df)\n"
      ],
      "metadata": {
        "colab": {
          "base_uri": "https://localhost:8080/"
        },
        "id": "zy7RffWU6vxo",
        "outputId": "6edcda15-f6ce-4281-bcaf-e92c6f5f3f0b"
      },
      "execution_count": 3,
      "outputs": [
        {
          "output_type": "stream",
          "name": "stdout",
          "text": [
            "    Día  Precio  Saldo de la Cuenta  Aportación Adicional\n",
            "0     1    1.10             16750.0                   0.0\n",
            "1     2    1.23             46000.0                   0.0\n",
            "2     3    1.09             14500.0                   0.0\n",
            "3     4    1.01              5500.0                9000.0\n",
            "4     5    0.98              5500.0                6750.0\n",
            "5     6    0.89              5500.0               20250.0\n",
            "6     7    0.80              5500.0               20250.0\n",
            "7     8    0.85             16750.0                   0.0\n",
            "8     9    0.98             46000.0                   0.0\n",
            "9    10    1.03             57250.0                   0.0\n",
            "10   11    1.10             73000.0                   0.0\n",
            "11   12    1.20             95500.0                   0.0\n",
            "12   13    1.34            127000.0                   0.0\n",
            "13   14    1.43            147250.0                   0.0\n"
          ]
        }
      ]
    }
  ]
}
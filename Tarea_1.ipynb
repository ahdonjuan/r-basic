{
  "nbformat": 4,
  "nbformat_minor": 0,
  "metadata": {
    "colab": {
      "provenance": [],
      "authorship_tag": "ABX9TyO/sgpat7D5OEdjgu8GHoZn",
      "include_colab_link": true
    },
    "kernelspec": {
      "name": "python3",
      "display_name": "Python 3"
    },
    "language_info": {
      "name": "python"
    }
  },
  "cells": [
    {
      "cell_type": "markdown",
      "metadata": {
        "id": "view-in-github",
        "colab_type": "text"
      },
      "source": [
        "<a href=\"https://colab.research.google.com/github/ahdonjuan/r-basic/blob/master/Tarea_1.ipynb\" target=\"_parent\"><img src=\"https://colab.research.google.com/assets/colab-badge.svg\" alt=\"Open In Colab\"/></a>"
      ]
    },
    {
      "cell_type": "code",
      "source": [
        "!pip install py_vollib"
      ],
      "metadata": {
        "colab": {
          "base_uri": "https://localhost:8080/"
        },
        "id": "c1oCPj3Ie1oJ",
        "outputId": "4a394640-88ed-4bf2-e70b-45b25b742094"
      },
      "execution_count": null,
      "outputs": [
        {
          "output_type": "stream",
          "name": "stdout",
          "text": [
            "Collecting py_vollib\n",
            "  Downloading py_vollib-1.0.1.tar.gz (19 kB)\n",
            "  Preparing metadata (setup.py) ... \u001b[?25l\u001b[?25hdone\n",
            "Collecting py_lets_be_rational (from py_vollib)\n",
            "  Downloading py_lets_be_rational-1.0.1.tar.gz (18 kB)\n",
            "  Preparing metadata (setup.py) ... \u001b[?25l\u001b[?25hdone\n",
            "Collecting simplejson (from py_vollib)\n",
            "  Downloading simplejson-3.19.2-cp310-cp310-manylinux_2_5_x86_64.manylinux1_x86_64.manylinux_2_17_x86_64.manylinux2014_x86_64.whl (137 kB)\n",
            "\u001b[2K     \u001b[90m━━━━━━━━━━━━━━━━━━━━━━━━━━━━━━━━━━━━━━━━\u001b[0m \u001b[32m137.9/137.9 kB\u001b[0m \u001b[31m3.6 MB/s\u001b[0m eta \u001b[36m0:00:00\u001b[0m\n",
            "\u001b[?25hRequirement already satisfied: numpy in /usr/local/lib/python3.10/dist-packages (from py_vollib) (1.25.2)\n",
            "Requirement already satisfied: pandas in /usr/local/lib/python3.10/dist-packages (from py_vollib) (2.0.3)\n",
            "Requirement already satisfied: scipy in /usr/local/lib/python3.10/dist-packages (from py_vollib) (1.11.4)\n",
            "Requirement already satisfied: python-dateutil>=2.8.2 in /usr/local/lib/python3.10/dist-packages (from pandas->py_vollib) (2.8.2)\n",
            "Requirement already satisfied: pytz>=2020.1 in /usr/local/lib/python3.10/dist-packages (from pandas->py_vollib) (2023.4)\n",
            "Requirement already satisfied: tzdata>=2022.1 in /usr/local/lib/python3.10/dist-packages (from pandas->py_vollib) (2024.1)\n",
            "Requirement already satisfied: six>=1.5 in /usr/local/lib/python3.10/dist-packages (from python-dateutil>=2.8.2->pandas->py_vollib) (1.16.0)\n",
            "Building wheels for collected packages: py_vollib, py_lets_be_rational\n",
            "  Building wheel for py_vollib (setup.py) ... \u001b[?25l\u001b[?25hdone\n",
            "  Created wheel for py_vollib: filename=py_vollib-1.0.1-py3-none-any.whl size=62829 sha256=2e031483be3f8ca5505554840d78de71ceab267ecb87dbad1800688caeda5bda\n",
            "  Stored in directory: /root/.cache/pip/wheels/84/0c/fc/b68506eda40cccaeb0013be550ba904d253ec90eae2b156052\n",
            "  Building wheel for py_lets_be_rational (setup.py) ... \u001b[?25l\u001b[?25hdone\n",
            "  Created wheel for py_lets_be_rational: filename=py_lets_be_rational-1.0.1-py3-none-any.whl size=24450 sha256=08be95c24ef3aedc2c98f2065beeb14610b79bdd9fc6d34160cca6a80cbf0b16\n",
            "  Stored in directory: /root/.cache/pip/wheels/32/d9/4f/360d4b0b9ec7c65583ec7c8e72fd2158c97ad04fbcb932891c\n",
            "Successfully built py_vollib py_lets_be_rational\n",
            "Installing collected packages: simplejson, py_lets_be_rational, py_vollib\n",
            "Successfully installed py_lets_be_rational-1.0.1 py_vollib-1.0.1 simplejson-3.19.2\n"
          ]
        }
      ]
    },
    {
      "cell_type": "code",
      "execution_count": null,
      "metadata": {
        "colab": {
          "base_uri": "https://localhost:8080/"
        },
        "id": "-9r79hLPerYf",
        "outputId": "6e112aff-7666-49f7-b515-33c3084123a5"
      },
      "outputs": [
        {
          "output_type": "stream",
          "name": "stderr",
          "text": [
            "/usr/local/lib/python3.10/dist-packages/py_lets_be_rational/numba_helper.py:10: NumbaDeprecationWarning: The 'nopython' keyword argument was not supplied to the 'numba.jit' decorator. The implicit default value for this argument is currently False, but it will be changed to True in Numba 0.59.0. See https://numba.readthedocs.io/en/stable/reference/deprecation.html#deprecation-of-object-mode-fall-back-behaviour-when-using-jit for details.\n",
            "  return jit(*jit_args, **jit_kwargs)(fun)\n"
          ]
        },
        {
          "output_type": "stream",
          "name": "stdout",
          "text": [
            "d1: -0.7286051565782627\n",
            "d2: -0.8286051565782627\n",
            "Precio del Call (calculado): 1.1669964789205878\n",
            "Precio del Call (py_vollib): 1.166996478920592\n",
            "Precio del Put (calculado): 8.454464734265983\n",
            "Precio del Put (py_vollib): 8.454464734265988\n"
          ]
        }
      ],
      "source": [
        "import numpy as np\n",
        "from scipy.stats import norm\n",
        "from py_vollib.black_scholes import black_scholes as bs\n",
        "\n",
        "# Definir variables\n",
        "r = 0.11\n",
        "S = 90\n",
        "K = 100\n",
        "T = 3/12\n",
        "sigma = 0.20\n",
        "\n",
        "def calcularBlackScholes(r, S, K, T, sigma):\n",
        "    \"Calcular precios BS de call y put\"\n",
        "    d1 = (np.log(S/K) + (r + sigma**2/2) * T) / (sigma * np.sqrt(T))\n",
        "    d2 = d1 - sigma * np.sqrt(T)\n",
        "\n",
        "    precio_call = S * norm.cdf(d1, 0, 1) - K * np.exp(-r * T) * norm.cdf(d2, 0, 1)\n",
        "    precio_put = K * np.exp(-r * T) * norm.cdf(-d2, 0, 1) - S * norm.cdf(-d1, 0, 1)\n",
        "\n",
        "    precio_call_bs = bs('c', S, K, T, r, sigma)\n",
        "    precio_put_bs = bs('p', S, K, T, r, sigma)\n",
        "\n",
        "    return d1, d2, precio_call, precio_put, precio_call_bs, precio_put_bs\n",
        "\n",
        "# Calcular y mostrar los resultados\n",
        "d1, d2, call_precio, put_precio, call_precio_bs, put_precio_bs = calcularBlackScholes(r, S, K, T, sigma)\n",
        "\n",
        "print(f\"d1: {d1}\")\n",
        "print(f\"d2: {d2}\")\n",
        "print(f\"Precio del Call (calculado): {call_precio}\")\n",
        "print(f\"Precio del Call (py_vollib): {call_precio_bs}\")\n",
        "print(f\"Precio del Put (calculado): {put_precio}\")\n",
        "print(f\"Precio del Put (py_vollib): {put_precio_bs}\")\n"
      ]
    },
    {
      "cell_type": "code",
      "source": [
        "# Demostrar la paridad put-call\n",
        "paridad_call_put = call_precio + K * np.exp(-r * T)\n",
        "paridad_call_put_bs = call_precio_bs + K * np.exp(-r * T)\n",
        "paridad_put_call = put_precio + S\n",
        "paridad_put_call_bs = put_precio_bs + S\n",
        "\n",
        "print(f\"Paridad Call-Put (calculado): {paridad_call_put} = {paridad_put_call}\")\n",
        "print(f\"Paridad Call-Put (py_vollib): {paridad_call_put_bs} = {paridad_put_call_bs}\")\n",
        "\n",
        "# Verificación de la paridad put-call\n",
        "assert np.isclose(paridad_call_put, paridad_put_call), \"La paridad put-call no se cumple (calculado)\"\n",
        "assert np.isclose(paridad_call_put_bs, paridad_put_call_bs), \"La paridad put-call no se cumple (py_vollib)\"\n",
        "print(\"La paridad put-call se cumple.\")"
      ],
      "metadata": {
        "colab": {
          "base_uri": "https://localhost:8080/"
        },
        "id": "gEwYOmZgfxJw",
        "outputId": "38acc3cd-0f55-4de9-a2e8-cbf45d956a40"
      },
      "execution_count": 4,
      "outputs": [
        {
          "output_type": "stream",
          "name": "stdout",
          "text": [
            "Paridad Call-Put (calculado): 98.454464734266 = 98.45446473426598\n",
            "Paridad Call-Put (py_vollib): 98.454464734266 = 98.45446473426598\n",
            "La paridad put-call se cumple.\n"
          ]
        }
      ]
    },
    {
      "cell_type": "code",
      "source": [
        "from py_vollib.black_scholes.greeks.analytical import delta, gamma, vega, theta"
      ],
      "metadata": {
        "id": "KutVc3eRgSA4"
      },
      "execution_count": 5,
      "outputs": []
    },
    {
      "cell_type": "code",
      "source": [
        "# Calcular las griegas\n",
        "delta_call = delta('c', S, K, T, r, sigma)\n",
        "delta_put = delta('p', S, K, T, r, sigma)\n",
        "gamma_call = gamma('c', S, K, T, r, sigma)\n",
        "gamma_put = gamma('p', S, K, T, r, sigma)\n",
        "vega_call = vega('c', S, K, T, r, sigma)\n",
        "vega_put = vega('p', S, K, T, r, sigma)\n",
        "theta_call = theta('c', S, K, T, r, sigma)\n",
        "theta_put = theta('p', S, K, T, r, sigma)"
      ],
      "metadata": {
        "id": "IvTa3HEwgXnv"
      },
      "execution_count": 6,
      "outputs": []
    },
    {
      "cell_type": "code",
      "source": [
        "# Imprimir las griegas\n",
        "print(f\"Delta Call: {delta_call}\")\n",
        "print(f\"Delta Put: {delta_put}\")\n",
        "print(f\"Gamma Call: {gamma_call}\")\n",
        "print(f\"Gamma Put: {gamma_put}\")\n",
        "print(f\"Vega Call: {vega_call}\")\n",
        "print(f\"Vega Put: {vega_put}\")\n",
        "print(f\"Theta Call: {theta_call}\")\n",
        "print(f\"Theta Put: {theta_put}\")"
      ],
      "metadata": {
        "colab": {
          "base_uri": "https://localhost:8080/"
        },
        "id": "zE4ZiUDAgcgB",
        "outputId": "7c5074c1-a57a-42b0-fe2f-a6fa9289c3b5"
      },
      "execution_count": 7,
      "outputs": [
        {
          "output_type": "stream",
          "name": "stdout",
          "text": [
            "Delta Call: 0.2331216116567763\n",
            "Delta Put: -0.7668783883432237\n",
            "Gamma Call: 0.03399316351618994\n",
            "Gamma Put: 0.03399316351618994\n",
            "Vega Call: 0.13767231224056925\n",
            "Vega Put: 0.13767231224056925\n",
            "Theta Call: -0.021058703650256413\n",
            "Theta Put: 0.008260807330806584\n"
          ]
        }
      ]
    },
    {
      "cell_type": "code",
      "source": [
        "def black_scholes_call(S, K, T, r, sigma):\n",
        "    d1 = (np.log(S / K) + (r + 0.5 * sigma ** 2) * T) / (sigma * np.sqrt(T))\n",
        "    d2 = d1 - sigma * np.sqrt(T)\n",
        "    call = S * norm.cdf(d1) - K * np.exp(-r * T) * norm.cdf(d2)\n",
        "    return call\n",
        "\n",
        "def black_scholes_put(S, K, T, r, sigma):\n",
        "    d1 = (np.log(S / K) + (r + 0.5 * sigma ** 2) * T) / (sigma * np.sqrt(T))\n",
        "    d2 = d1 - sigma * np.sqrt(T)\n",
        "    put = K * np.exp(-r * T) * norm.cdf(-d2) - S * norm.cdf(-d1)\n",
        "    return put\n",
        "\n",
        "precio_call = black_scholes_call(S, K, T, r, sigma)\n",
        "precio_put = black_scholes_put(S, K, T, r, sigma)\n",
        "\n",
        "print(f\"Precio del Call: {precio_call:.2f}\")\n",
        "print(f\"Precio del Put: {precio_put:.2f}\")"
      ],
      "metadata": {
        "colab": {
          "base_uri": "https://localhost:8080/"
        },
        "id": "WSryZasWiLkN",
        "outputId": "d9305780-fdfc-41ef-abfa-eac0bdc4225e"
      },
      "execution_count": 23,
      "outputs": [
        {
          "output_type": "stream",
          "name": "stdout",
          "text": [
            "Precio del Call: 1.17\n",
            "Precio del Put: 8.45\n"
          ]
        }
      ]
    },
    {
      "cell_type": "code",
      "source": [
        "# Paso 5: Cálculo del valor de un call spread\n",
        "K2 = 100.25  # Strike del segundo call en el spread\n",
        "precio_call2 = black_scholes_call(S, K2, T, r, sigma)\n",
        "call_spread = precio_call - precio_call2\n",
        "\n",
        "print(f\"Precio del Call Spread: {call_spread:.2f}\")"
      ],
      "metadata": {
        "colab": {
          "base_uri": "https://localhost:8080/"
        },
        "id": "zy4tynsAh7DQ",
        "outputId": "b85b95f0-e18b-45f9-aef8-f46ada3438cd"
      },
      "execution_count": 15,
      "outputs": [
        {
          "output_type": "stream",
          "name": "stdout",
          "text": [
            "Precio del Call Spread: 0.05\n"
          ]
        }
      ]
    },
    {
      "cell_type": "code",
      "source": [
        "# Paso 6: Cálculo del valor de una opción binaria cash-or-nothing\n",
        "def binaria_call_cash_or_nothing(S, K, T, r, sigma):\n",
        "    d2 = (np.log(S / K) + (r - 0.5 * sigma ** 2) * T) / (sigma * np.sqrt(T))\n",
        "    return np.exp(-r * T) * norm.cdf(d2)\n",
        "\n",
        "precio_binaria = binaria_call_cash_or_nothing(S, K, T, r, sigma)\n",
        "\n",
        "print(f\"Precio de la Opción Binaria: {precio_binaria:.2f}\")\n"
      ],
      "metadata": {
        "colab": {
          "base_uri": "https://localhost:8080/"
        },
        "id": "JBBLwyH4k016",
        "outputId": "f92967cd-0880-4ecf-a666-fbf41aa0a20a"
      },
      "execution_count": 17,
      "outputs": [
        {
          "output_type": "stream",
          "name": "stdout",
          "text": [
            "Precio de la Opción Binaria: 0.20\n"
          ]
        }
      ]
    },
    {
      "cell_type": "code",
      "source": [
        "# Paso 7: Aproximación del valor de la opción binaria con la fórmula\n",
        "import matplotlib.pyplot as plt\n",
        "def aproximacion_binaria(S, K, T, r, sigma):\n",
        "    d1 = (np.log(S / K) + (r + 0.5 * sigma ** 2) * T) / (sigma * np.sqrt(T))\n",
        "    dC_dK = -norm.pdf(d1) / (sigma * S * np.sqrt(T))\n",
        "    dC_dsigma = S * norm.pdf(d1) * np.sqrt(T)\n",
        "    d_sigma_dK = 0  # Suponiendo sigma constante respecto a K\n",
        "\n",
        "    aproximacion = dC_dK + dC_dsigma * d_sigma_dK\n",
        "    return aproximacion\n",
        "\n",
        "aproximacion_binaria = aproximacion_binaria(S, K, T, r, sigma)\n",
        "\n",
        "print(f\"Aproximación de la Opción Binaria: {aproximacion_binaria:.2f}\")\n",
        "\n",
        "# Plot de los precios del Call y Put en función del precio del activo subyacente S\n",
        "precios_subyacente = np.linspace(50, 130, 100)\n",
        "precios_call = [black_scholes_call(S, K, T, r, sigma) for S in precios_subyacente]\n",
        "precios_put = [black_scholes_put(S, K, T, r, sigma) for S in precios_subyacente]\n",
        "\n",
        "plt.figure(figsize=(10, 6))\n",
        "plt.plot(precios_subyacente, precios_call, label='Precio Call')\n",
        "plt.plot(precios_subyacente, precios_put, label='Precio Put')\n",
        "plt.axvline(x=S, color='grey', linestyle='--', label='S = 90')\n",
        "plt.xlabel('Precio del Activo Subyacente (S)')\n",
        "plt.ylabel('Precio de la Opción')\n",
        "plt.title('Precios de las Opciones Call y Put en función del Precio del Activo Subyacente')\n",
        "plt.legend()\n",
        "plt.grid(True)\n",
        "plt.show()"
      ],
      "metadata": {
        "colab": {
          "base_uri": "https://localhost:8080/",
          "height": 582
        },
        "id": "SpDOsLWMk_h6",
        "outputId": "9934dc34-da5e-481f-ef66-910638d52426"
      },
      "execution_count": 27,
      "outputs": [
        {
          "output_type": "stream",
          "name": "stdout",
          "text": [
            "Aproximación de la Opción Binaria: -0.03\n"
          ]
        },
        {
          "output_type": "display_data",
          "data": {
            "text/plain": [
              "<Figure size 1000x600 with 1 Axes>"
            ],
            "image/png": "[encoded data removed]"
          },
          "metadata": {}
        }
      ]
    },
    {
      "cell_type": "code",
      "source": [
        "# Precios de las opciones call y put utilizando el modelo de Black-Scholes\n",
        "call_price = black_scholes_call(S, K, T, r, sigma)\n",
        "put_price = black_scholes_put(S, K, T, r, sigma)\n",
        "\n",
        "# Aproximación numérica de las derivadas parciales\n",
        "epsilon = 0.001  # Pequeño cambio\n",
        "delta_S = S * epsilon\n",
        "delta_T = T * epsilon\n",
        "\n",
        "# Derivada parcial con respecto al tiempo T\n",
        "call_price_delta_T = black_scholes_call(S, K, T + delta_T, r, sigma)\n",
        "put_price_delta_T = black_scholes_put(S, K, T + delta_T, r, sigma)\n",
        "partial_t = (call_price_delta_T - call_price - put_price_delta_T + put_price) / (2 * delta_T)\n",
        "\n",
        "# Derivada parcial con respecto al precio del subyacente S (Delta)\n",
        "call_price_delta_S = black_scholes_call(S + delta_S, K, T, r, sigma)\n",
        "put_price_delta_S = black_scholes_put(S + delta_S, K, T, r, sigma)\n",
        "partial_S = (call_price_delta_S - call_price - put_price_delta_S + put_price) / (2 * delta_S)\n",
        "\n",
        "# Segunda derivada parcial con respecto al precio del subyacente S (Gamma)\n",
        "call_price_delta_S1 = black_scholes_call(S + delta_S, K, T, r, sigma)\n",
        "call_price_delta_S2 = black_scholes_call(S - delta_S, K, T, r, sigma)\n",
        "put_price_delta_S1 = black_scholes_put(S + delta_S, K, T, r, sigma)\n",
        "put_price_delta_S2 = black_scholes_put(S - delta_S, K, T, r, sigma)\n",
        "\n",
        "# Derivada parcial con respecto a S nuevamente para obtener la segunda derivada\n",
        "partial_S2 = (call_price_delta_S1 - 2 * call_price + call_price_delta_S2 - put_price_delta_S1 + 2 * put_price - put_price_delta_S2) / (delta_S ** 2)\n",
        "\n",
        "# Imprimir las derivadas parciales numéricas\n",
        "print(f\"Derivada parcial con respecto al tiempo T (Theta): {partial_t}\")\n",
        "print(f\"Derivada parcial con respecto al precio del subyacente S (Delta): {partial_S}\")\n",
        "print(f\"Segunda derivada parcial con respecto al precio del subyacente S (Gamma): {partial_S2}\")"
      ],
      "metadata": {
        "colab": {
          "base_uri": "https://localhost:8080/"
        },
        "id": "zEw5b5upn6A1",
        "outputId": "6cd0b029-38c0-40c1-d6e9-9b32b6c4086a"
      },
      "execution_count": 33,
      "outputs": [
        {
          "output_type": "stream",
          "name": "stdout",
          "text": [
            "Derivada parcial con respecto al tiempo T (Theta): 5.3507371810468385\n",
            "Derivada parcial con respecto al precio del subyacente S (Delta): 0.49999999999995975\n",
            "Segunda derivada parcial con respecto al precio del subyacente S (Gamma): -2.1930331350620376e-12\n"
          ]
        }
      ]
    }
  ]
}
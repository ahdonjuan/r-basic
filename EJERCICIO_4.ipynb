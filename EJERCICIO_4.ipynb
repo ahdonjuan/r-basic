{
  "nbformat": 4,
  "nbformat_minor": 0,
  "metadata": {
    "colab": {
      "provenance": [],
      "authorship_tag": "ABX9TyPDbKX0curiYcuVECUAPfEL",
      "include_colab_link": true
    },
    "kernelspec": {
      "name": "python3",
      "display_name": "Python 3"
    },
    "language_info": {
      "name": "python"
    }
  },
  "cells": [
    {
      "cell_type": "markdown",
      "metadata": {
        "id": "view-in-github",
        "colab_type": "text"
      },
      "source": [
        "<a href=\"https://colab.research.google.com/github/ahdonjuan/r-basic/blob/master/EJERCICIO_4.ipynb\" target=\"_parent\"><img src=\"https://colab.research.google.com/assets/colab-badge.svg\" alt=\"Open In Colab\"/></a>"
      ]
    },
    {
      "cell_type": "code",
      "execution_count": 1,
      "metadata": {
        "colab": {
          "base_uri": "https://localhost:8080/"
        },
        "id": "rtN7-gO3UzUo",
        "outputId": "c8630581-365c-46aa-c156-4ea4cd841481"
      },
      "outputs": [
        {
          "output_type": "stream",
          "name": "stdout",
          "text": [
            "Función de probabilidad de S hasta $125:\n",
            "S = $25: P(S) = 0.0150\n",
            "S = $50: P(S) = 0.0425\n",
            "S = $75: P(S) = 0.0550\n",
            "S = $100: P(S) = 0.0800\n",
            "S = $125: P(S) = 0.0300\n",
            "\n",
            "Media del costo total por empleado: $314.50\n",
            "Desviación estándar del costo total por empleado: $191.62\n"
          ]
        }
      ],
      "source": [
        "import numpy as np\n",
        "\n",
        "# Distribución del costo anual por persona (en unidades de $25)\n",
        "x_values = np.array([1, 2, 3, 4, 5, 6, 7, 8, 9, 10])\n",
        "f_x = np.array([0.150, 0.200, 0.250, 0.125, 0.075, 0.050, 0.050, 0.050, 0.025, 0.025])\n",
        "\n",
        "# Distribución del número de personas por certificado\n",
        "n_values = np.array([0, 1, 2, 3, 4, 5, 6, 7, 8])\n",
        "P_n = np.array([0.05, 0.10, 0.15, 0.20, 0.25, 0.15, 0.06, 0.03, 0.01])\n",
        "\n",
        "# Calcular la función de probabilidad de S hasta $125\n",
        "S_values = np.arange(25, 126, 25)  # valores posibles de S en unidades de $25\n",
        "P_S = np.zeros(len(S_values))\n",
        "\n",
        "for i, S in enumerate(S_values):\n",
        "    for n in n_values:\n",
        "        for x in x_values:\n",
        "            if 25 * n * x == S:\n",
        "                P_S[i] += P_n[n] * f_x[x - 1]\n",
        "\n",
        "# Imprimir la función de probabilidad de S\n",
        "print(\"Función de probabilidad de S hasta $125:\")\n",
        "for s, p in zip(S_values, P_S):\n",
        "    print(f\"S = ${s}: P(S) = {p:.4f}\")\n",
        "\n",
        "# Calcular la media y la desviación estándar de los pagos totales por empleado\n",
        "\n",
        "# Media y varianza de X\n",
        "E_X = 25 * np.sum(x_values * f_x)\n",
        "Var_X = 25**2 * np.sum((x_values - E_X / 25)**2 * f_x)\n",
        "\n",
        "# Media y varianza de N\n",
        "E_N = np.sum(n_values * P_n)\n",
        "Var_N = np.sum((n_values - E_N)**2 * P_n)\n",
        "\n",
        "# Media de S\n",
        "E_S = E_N * E_X\n",
        "\n",
        "# Varianza de S\n",
        "Var_S = E_N * Var_X + (E_X)**2 * Var_N\n",
        "\n",
        "# Desviación estándar de S\n",
        "Std_S = np.sqrt(Var_S)\n",
        "\n",
        "# Imprimir la media y la desviación estándar\n",
        "print(f\"\\nMedia del costo total por empleado: ${E_S:.2f}\")\n",
        "print(f\"Desviación estándar del costo total por empleado: ${Std_S:.2f}\")\n"
      ]
    }
  ]
}